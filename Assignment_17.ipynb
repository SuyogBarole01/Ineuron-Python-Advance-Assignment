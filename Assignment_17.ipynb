{
 "cells": [
  {
   "cell_type": "code",
   "execution_count": null,
   "id": "cebe2a0b",
   "metadata": {},
   "outputs": [],
   "source": [
    "Ans 1.\n",
    "The Main difference between Greedy and Non Greedy Match Syntax is The Greedy Match will try to match \n",
    "as many repetitions of the quantified pattern as possible Whereas The Non Greedy Match will try to match \n",
    "as few repetitions of the quantified pattern as possible"
   ]
  },
  {
   "cell_type": "code",
   "execution_count": 1,
   "id": "116f1f3a",
   "metadata": {},
   "outputs": [
    {
     "name": "stdout",
     "output_type": "stream",
     "text": [
      "['vvvvvv', '']\n",
      "['', 'v', '', 'v', '', 'v', '', 'v', '', 'v', '', 'v', '']\n"
     ]
    }
   ],
   "source": [
    "import re\n",
    "print(re.findall(\"v*\", \"vvvvvv\")) # Greedy Match Synatx\n",
    "print(re.findall(\"v*?\", \"vvvvvv\")) # Non Greddy Syntax"
   ]
  },
  {
   "cell_type": "code",
   "execution_count": null,
   "id": "4fc6a95f",
   "metadata": {},
   "outputs": [],
   "source": [
    "Ans 2.\n",
    "The Greedy Match will try to match as many repetitions of the quantified pattern as possible. \n",
    "The Non Greedy Match will try to match as few repetitions of the quantified pattern as possible. \n",
    "If only Non Greedy Match is available, we can use other filtering or pattern matching methods of \n",
    "regex and further identify the required pattern."
   ]
  },
  {
   "cell_type": "code",
   "execution_count": 2,
   "id": "2b11d267",
   "metadata": {},
   "outputs": [
    {
     "name": "stdout",
     "output_type": "stream",
     "text": [
      "Phone number found -> 234\n",
      "Phone number found -> 234\n"
     ]
    }
   ],
   "source": [
    "# Ans 3.\n",
    "import re\n",
    "phoneNumRegex = re.compile(r'\\d\\d\\d')\n",
    "num = phoneNumRegex.search('My number is 234-567-8901.')\n",
    "print(f'Phone number found -> {num.group()}') # Non Tagged group\n",
    "print(f'Phone number found -> {num.group(0)}') # Tagged Group"
   ]
  },
  {
   "cell_type": "code",
   "execution_count": null,
   "id": "bef1886d",
   "metadata": {},
   "outputs": [],
   "source": [
    "Ans 4.\n",
    "Here in the below Code Snippet . decimal is not tagged or captured. It will useful in scenarios where\n",
    "the separator of value in a string is of no use and we need to capture only the values."
   ]
  },
  {
   "cell_type": "code",
   "execution_count": 3,
   "id": "f0336e5e",
   "metadata": {},
   "outputs": [
    {
     "data": {
      "text/plain": [
       "('135', '456')"
      ]
     },
     "execution_count": 3,
     "metadata": {},
     "output_type": "execute_result"
    }
   ],
   "source": [
    "import re\n",
    "text='135.456'\n",
    "pattern=r'(\\d+)(?:.)(\\d+)'\n",
    "regobj=re.compile(pattern)\n",
    "matobj=regobj.search(text)\n",
    "matobj.groups()"
   ]
  },
  {
   "cell_type": "code",
   "execution_count": null,
   "id": "a716e4dd",
   "metadata": {},
   "outputs": [],
   "source": [
    "Ans 5.\n",
    "While counting the number of multiple lines or mutiple sentence in a string the positive look ahead \n",
    "makes a difference, without which we wont get the correct count of lines or sentences in a string."
   ]
  },
  {
   "cell_type": "code",
   "execution_count": null,
   "id": "9841bd70",
   "metadata": {},
   "outputs": [],
   "source": [
    "Ans 6.\n",
    "Positive Lookahead allows to add a condition for what follows. Negative Lookahead is similar, but it \n",
    "looks behind. That is, it allows to match a pattern only if there’s something before it."
   ]
  },
  {
   "cell_type": "code",
   "execution_count": null,
   "id": "4a1fbca8",
   "metadata": {},
   "outputs": [],
   "source": [
    "Ans 7.\n",
    "Referring to groups by name rather than by number in a standard expression helps to keep the code \n",
    "clear and easy to understand."
   ]
  },
  {
   "cell_type": "code",
   "execution_count": 4,
   "id": "c6704f4b",
   "metadata": {},
   "outputs": [
    {
     "data": {
      "text/plain": [
       "['The', 'the']"
      ]
     },
     "execution_count": 4,
     "metadata": {},
     "output_type": "execute_result"
    }
   ],
   "source": [
    "# Ans 8.\n",
    "import re\n",
    "text = \"The cow jumped over the moon\"\n",
    "regobj=re.compile(r'(?P<w1>The)',re.I)\n",
    "regobj.findall(text)"
   ]
  },
  {
   "cell_type": "code",
   "execution_count": null,
   "id": "3a5a321a",
   "metadata": {},
   "outputs": [],
   "source": [
    "Ans 9.\n",
    "re.findall() module is used to search for all occurrences that match a given pattern. In contrast, \n",
    "re.search() will only return the first occurrence that matches the specified pattern. re.findall() \n",
    "will iterate over all the lines of the file and will return all non-overlapping matches of pattern \n",
    "in a single step."
   ]
  },
  {
   "cell_type": "code",
   "execution_count": null,
   "id": "76af8722",
   "metadata": {},
   "outputs": [],
   "source": [
    "Ans 10.\n",
    "Yes, It may have any name."
   ]
  }
 ],
 "metadata": {
  "kernelspec": {
   "display_name": "Python 3 (ipykernel)",
   "language": "python",
   "name": "python3"
  },
  "language_info": {
   "codemirror_mode": {
    "name": "ipython",
    "version": 3
   },
   "file_extension": ".py",
   "mimetype": "text/x-python",
   "name": "python",
   "nbconvert_exporter": "python",
   "pygments_lexer": "ipython3",
   "version": "3.9.13"
  }
 },
 "nbformat": 4,
 "nbformat_minor": 5
}
