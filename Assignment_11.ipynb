{
 "cells": [
  {
   "cell_type": "code",
   "execution_count": null,
   "id": "89b89a57",
   "metadata": {},
   "outputs": [],
   "source": [
    "Ans 1.\n",
    "Metaclass in Python is a class of a class that defines how a class behaves. A class is itself a instance of \n",
    "Metaclass, and any Instance of Class in Python is an Instance of type metaclass. E.g. Type of of int, str, \n",
    "float, list, tuple and many more is of metaclass type."
   ]
  },
  {
   "cell_type": "code",
   "execution_count": null,
   "id": "df5ca7f9",
   "metadata": {},
   "outputs": [],
   "source": [
    "Ans 2.\n",
    "A way to declare a class’ metaclass is by using metaclass keyword in class definition."
   ]
  },
  {
   "cell_type": "code",
   "execution_count": 1,
   "id": "f9c02f68",
   "metadata": {},
   "outputs": [
    {
     "name": "stdout",
     "output_type": "stream",
     "text": [
      "<class 'type'>\n",
      "<class '__main__.meta'>\n"
     ]
    }
   ],
   "source": [
    "class meta(type):\n",
    "    pass\n",
    "class class_meta(metaclass=meta):\n",
    "    pass\n",
    "print(type(meta))\n",
    "print(type(class_meta))"
   ]
  },
  {
   "cell_type": "code",
   "execution_count": null,
   "id": "0c542cf7",
   "metadata": {},
   "outputs": [],
   "source": [
    "Ans 3.\n",
    "Anything you can do with a class decorator, you can of course do with a custom metaclasses \n",
    "(just apply the functionality of the \"decorator function\", i.e., the one that takes a class object \n",
    " and modifies it, in the course of the metaclass's __new__ or __init__ that make the class object!)."
   ]
  },
  {
   "cell_type": "code",
   "execution_count": null,
   "id": "ffca5c34",
   "metadata": {},
   "outputs": [],
   "source": [
    "Ans 4.\n",
    "Anything you can do with a class decorator, you can of course do with a custom metaclass \n",
    "(just apply the functionality of the \"decorator function\", i.e., the one that takes a class object and \n",
    " modifies it, in the course of the metaclass's __new__ or __init__ that make the class object!)."
   ]
  }
 ],
 "metadata": {
  "kernelspec": {
   "display_name": "Python 3 (ipykernel)",
   "language": "python",
   "name": "python3"
  },
  "language_info": {
   "codemirror_mode": {
    "name": "ipython",
    "version": 3
   },
   "file_extension": ".py",
   "mimetype": "text/x-python",
   "name": "python",
   "nbconvert_exporter": "python",
   "pygments_lexer": "ipython3",
   "version": "3.9.13"
  }
 },
 "nbformat": 4,
 "nbformat_minor": 5
}
