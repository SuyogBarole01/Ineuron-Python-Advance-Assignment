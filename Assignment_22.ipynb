{
 "cells": [
  {
   "cell_type": "code",
   "execution_count": null,
   "id": "a230f631",
   "metadata": {},
   "outputs": [],
   "source": [
    "Ans 1.\n",
    "Arrays represent multiple data items of the same type using a single name. In arrays, the elements can \n",
    "be accessed randomly by using the index number. Arrays allocate memory in contiguous memory locations for \n",
    "all its elements. Hence there is no chance of extra memory being allocated in case of arrays. This avoids \n",
    "memory overflow or shortage of memory in arrays."
   ]
  },
  {
   "cell_type": "code",
   "execution_count": null,
   "id": "21215912",
   "metadata": {},
   "outputs": [],
   "source": [
    "Ans 2.\n",
    "The number of elements to be stored in an array should be known in advance. An array is a static structure\n",
    "(which means the array is of fixed size). Once declared the size of the array cannot be modified. The memory\n",
    "which is allocated to it cannot be increased or decreased.\n",
    "\n",
    "Insertion and deletion are quite difficult in an array as the elements are stored in consecutive memory \n",
    "locations and the shifting operation is costly.\n",
    "\n",
    "Allocating more memory than the requirement leads to wastage of memory space and less allocation of memory\n",
    "also leads to a problem"
   ]
  },
  {
   "cell_type": "code",
   "execution_count": null,
   "id": "c9699bf0",
   "metadata": {},
   "outputs": [],
   "source": [
    "Ans 3.\n",
    "The array package doesn't provide any help with numerical calculation with the items insdie it in number \n",
    "form while NumPy give you a wide variety of numerical operations.\n",
    "\n",
    "An array is a single dimensional entity which hold the numerical data, while numpy can have more than \n",
    "1 dimension.\n",
    "\n",
    "In case of array, item can be accessed by its index position and it is easy task while in numpy item \n",
    "is accessed by its column and row index, which makes it slightly time taking. Same goes with \n",
    "appending operation.\n",
    "\n",
    "In case of array we do not form a tabular structure, while in numpy it forms a tabular structure"
   ]
  },
  {
   "cell_type": "markdown",
   "id": "b1d730c3",
   "metadata": {},
   "source": [
    "Ans 4.\n",
    "The distinctions between the empty, ones, and zero functions are as follows :\n",
    "\n",
    "- Empty function: An empty function is a function that does not contain any statement within its body. \n",
    "  If you try to write a function definition without any statement in python ,it will return an error. \n",
    "  To avoid this, we use pass statement. pass is a special statement in Python that does nothing. It only works \n",
    "  as a dummy statement.\n",
    "- Ones: This function returns a new array of given shape and data type, where the element’s value is 1.\n",
    "- Zeros: This function returns a new array of given shape and data type, where the element’s value is 0."
   ]
  },
  {
   "cell_type": "code",
   "execution_count": null,
   "id": "d8a26c58",
   "metadata": {},
   "outputs": [],
   "source": [
    "Ans 5.\n",
    "Its function is to execute the function over each coordinate and the resulting array. The function is \n",
    "called with N parameters, where N is the rank of shape. Each parameter represents the coordinates of the \n",
    "array varying along a specific axis."
   ]
  },
  {
   "cell_type": "code",
   "execution_count": null,
   "id": "556a7c33",
   "metadata": {},
   "outputs": [],
   "source": [
    "Ans 6.\n",
    "If any scaler value such as integer is added to the numpy array then all the elements inside the array \n",
    "will add that value in it."
   ]
  },
  {
   "cell_type": "code",
   "execution_count": null,
   "id": "79c52c95",
   "metadata": {},
   "outputs": [],
   "source": [
    "Ans 7.\n",
    "It will carry out provided operation on all elements of array."
   ]
  },
  {
   "cell_type": "code",
   "execution_count": null,
   "id": "822e69cd",
   "metadata": {},
   "outputs": [],
   "source": [
    "Ans 8.\n",
    "Yes, it is possible that we can include a string of fixed length in numpy array. The dtype of any \n",
    "numpy array containing string values is the maximum length of any string present in the array.\n",
    "Once set, it will only be able to store new string having length not more than the maximum length at \n",
    "the time of the creation. If we try to reassign some another string value having length greater than \n",
    "the maximum length of the existing elements, it simply discards all the values beyond the maximum length \n",
    "accept upto those values which are under the limit."
   ]
  },
  {
   "cell_type": "code",
   "execution_count": null,
   "id": "f4339d69",
   "metadata": {},
   "outputs": [],
   "source": [
    "Ans 9.\n",
    "It will simply add or multiply element to element at same position."
   ]
  },
  {
   "cell_type": "code",
   "execution_count": null,
   "id": "937215e8",
   "metadata": {},
   "outputs": [],
   "source": [
    "Ans 10.\n",
    "The best way to use a Boolean array to mask another array is by Using masked_where of numpy package"
   ]
  },
  {
   "cell_type": "code",
   "execution_count": null,
   "id": "76008715",
   "metadata": {},
   "outputs": [],
   "source": [
    "Ans 11.\n",
    "np.std and math package can be used individually."
   ]
  },
  {
   "cell_type": "code",
   "execution_count": null,
   "id": "3168c7b6",
   "metadata": {},
   "outputs": [],
   "source": [
    "Ans 12.\n",
    "It will have same dimensionality as input array."
   ]
  }
 ],
 "metadata": {
  "kernelspec": {
   "display_name": "Python 3 (ipykernel)",
   "language": "python",
   "name": "python3"
  },
  "language_info": {
   "codemirror_mode": {
    "name": "ipython",
    "version": 3
   },
   "file_extension": ".py",
   "mimetype": "text/x-python",
   "name": "python",
   "nbconvert_exporter": "python",
   "pygments_lexer": "ipython3",
   "version": "3.9.13"
  }
 },
 "nbformat": 4,
 "nbformat_minor": 5
}
