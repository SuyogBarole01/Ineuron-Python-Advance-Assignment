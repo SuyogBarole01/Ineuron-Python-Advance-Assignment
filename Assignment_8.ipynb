{
 "cells": [
  {
   "cell_type": "code",
   "execution_count": null,
   "id": "72e4da00",
   "metadata": {},
   "outputs": [],
   "source": [
    "Ans 1.\n",
    "raise and assert are the two latest user-defined exception constraints in Python 3.X"
   ]
  },
  {
   "cell_type": "code",
   "execution_count": null,
   "id": "fd194d17",
   "metadata": {},
   "outputs": [],
   "source": [
    "Ans 2.\n",
    "In python, Users can define custom exceptions by creating a new class. This exception class has to be \n",
    "derived, either directly or indirectly from built-in Exception class. This new exception class like \n",
    "other exceptions can be raised using the raise statement with an optional error message."
   ]
  },
  {
   "cell_type": "code",
   "execution_count": 1,
   "id": "a6e3d59e",
   "metadata": {},
   "outputs": [
    {
     "ename": "ToYoungException",
     "evalue": "To Young For Voting",
     "output_type": "error",
     "traceback": [
      "\u001b[0;31m---------------------------------------------------------------------------\u001b[0m",
      "\u001b[0;31mToYoungException\u001b[0m                          Traceback (most recent call last)",
      "\u001b[0;32m/var/folders/xs/k8gm34y91x1bvhzcjxxdfk3c0000gn/T/ipykernel_3705/1019652075.py\u001b[0m in \u001b[0;36m<module>\u001b[0;34m\u001b[0m\n\u001b[1;32m      3\u001b[0m         \u001b[0mself\u001b[0m\u001b[0;34m.\u001b[0m\u001b[0mmsg\u001b[0m \u001b[0;34m=\u001b[0m \u001b[0mmsg\u001b[0m\u001b[0;34m\u001b[0m\u001b[0;34m\u001b[0m\u001b[0m\n\u001b[1;32m      4\u001b[0m \u001b[0mage\u001b[0m \u001b[0;34m=\u001b[0m \u001b[0;36m12\u001b[0m\u001b[0;34m\u001b[0m\u001b[0;34m\u001b[0m\u001b[0m\n\u001b[0;32m----> 5\u001b[0;31m \u001b[0;32mif\u001b[0m \u001b[0mage\u001b[0m \u001b[0;34m<=\u001b[0m \u001b[0;36m18\u001b[0m\u001b[0;34m:\u001b[0m \u001b[0;32mraise\u001b[0m \u001b[0mToYoungException\u001b[0m\u001b[0;34m(\u001b[0m\u001b[0;34m'To Young For Voting'\u001b[0m\u001b[0;34m)\u001b[0m\u001b[0;34m\u001b[0m\u001b[0;34m\u001b[0m\u001b[0m\n\u001b[0m",
      "\u001b[0;31mToYoungException\u001b[0m: To Young For Voting"
     ]
    }
   ],
   "source": [
    "class ToYoungException(Exception):\n",
    "    def __init__(self,msg):\n",
    "        self.msg = msg\n",
    "age = 12\n",
    "if age <= 18: raise ToYoungException('To Young For Voting')"
   ]
  },
  {
   "cell_type": "code",
   "execution_count": null,
   "id": "12cc2d5a",
   "metadata": {},
   "outputs": [],
   "source": [
    "Ans 3.\n",
    "The process() method of LoggerAdapter is where the contextual information is added to the logging output.\n",
    "its passes the message and keyword arguments of the logging call, and it passes back modified versions \n",
    "of these to use in the call to the underlying logger.\n",
    "\n",
    "Other method that can be used is exception(), Logs a messgae with level ERROR on this logger. \n",
    "The arguments are interpreted as for debug(). Exception info is added to the logging message."
   ]
  },
  {
   "cell_type": "code",
   "execution_count": null,
   "id": "902cfe55",
   "metadata": {},
   "outputs": [],
   "source": [
    "Ans 4.\n",
    "raise and assert are two methods for specifying the text of an exception object's error message.raise \n",
    "statement is used to trigger explicit exception, if certain condition is not as per requirement of programmer.\n",
    "it helps in triggering exception as per need of programmer and logic.\n",
    "\n",
    "There are few assertions that programmer always want to be True to avoid code failure. This type of \n",
    "requirment is fullfilled by assert statement. This statement takes a Boolean Condition output of which \n",
    "if True, further program executes. if output of assert statement is False it raises an Assertion Error."
   ]
  },
  {
   "cell_type": "code",
   "execution_count": null,
   "id": "4599abca",
   "metadata": {},
   "outputs": [],
   "source": [
    "Ans 5.\n",
    "String-based Exceptions doesn't inherit from Exceptions. so plain exceptions catch all exceptions and \n",
    "not only system."
   ]
  }
 ],
 "metadata": {
  "kernelspec": {
   "display_name": "Python 3 (ipykernel)",
   "language": "python",
   "name": "python3"
  },
  "language_info": {
   "codemirror_mode": {
    "name": "ipython",
    "version": 3
   },
   "file_extension": ".py",
   "mimetype": "text/x-python",
   "name": "python",
   "nbconvert_exporter": "python",
   "pygments_lexer": "ipython3",
   "version": "3.9.13"
  }
 },
 "nbformat": 4,
 "nbformat_minor": 5
}
