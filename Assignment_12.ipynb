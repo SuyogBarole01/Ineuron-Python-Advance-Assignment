{
 "cells": [
  {
   "cell_type": "code",
   "execution_count": null,
   "id": "dbbf8e68",
   "metadata": {},
   "outputs": [],
   "source": [
    "Ans 1.\n",
    "String’s indexed character cannot to be assigned a New value , as Strings are immutable.\n",
    "Example:\n",
    "name = \"Reinforcement\"\n",
    "print(id(name)) #73472\n",
    "name[0] = \"V\" # Raises TypeError"
   ]
  },
  {
   "cell_type": "code",
   "execution_count": null,
   "id": "182b27bf",
   "metadata": {},
   "outputs": [],
   "source": [
    "Ans 2.\n",
    "+= operator is used to concatenate strings, it does not violate Python’s string immutability Property.\n",
    "Because doing so new creates a new association with data and variable. E.g. str_1=\"a\" and str_1+=\"b. \n",
    "effect of this statements to create string ab and reassign it to variable str_1, any string data is \n",
    "not actually modified."
   ]
  },
  {
   "cell_type": "code",
   "execution_count": 1,
   "id": "09b97f85",
   "metadata": {},
   "outputs": [
    {
     "name": "stdout",
     "output_type": "stream",
     "text": [
      "140510258762864\n",
      "140510285869808\n"
     ]
    }
   ],
   "source": [
    "str_1 = 'a'\n",
    "print(id(str_1))\n",
    "str_1 += 'b'\n",
    "print(id(str_1)) # Does not Modify existing string, Creates a New String Object"
   ]
  },
  {
   "cell_type": "code",
   "execution_count": null,
   "id": "b952f99c",
   "metadata": {},
   "outputs": [],
   "source": [
    "Ans 3.\n",
    "A Character in string can be indexed using string name followed by index number of character in \n",
    "square bracket. Positive Indexing i.e. first index is 0 an so on, or Negative Indexing i.e. last \n",
    "letter is -1 and so on can be used to index a character"
   ]
  },
  {
   "cell_type": "code",
   "execution_count": 2,
   "id": "0ae9c896",
   "metadata": {},
   "outputs": [
    {
     "name": "stdout",
     "output_type": "stream",
     "text": [
      "u l e\n",
      "e i c\n"
     ]
    }
   ],
   "source": [
    "in_string = \"iNeuron Full Stack Data Science\"\n",
    "print(in_string[9],in_string[10],in_string[2]) # Positive Indexing\n",
    "print(in_string[-1],in_string[-5],in_string[-2]) # Negative Indexing"
   ]
  },
  {
   "cell_type": "code",
   "execution_count": null,
   "id": "27d723f0",
   "metadata": {},
   "outputs": [],
   "source": [
    "Ans 4.\n",
    "We can access elements of sequence datatypes by using slicing and indexing. Indexing is used to \n",
    "obtaining individual element while slicing for sequence of elements."
   ]
  },
  {
   "cell_type": "code",
   "execution_count": 3,
   "id": "87b346d1",
   "metadata": {},
   "outputs": [
    {
     "name": "stdout",
     "output_type": "stream",
     "text": [
      "N u o\n",
      "Neuron Full St\n"
     ]
    }
   ],
   "source": [
    "in_string = \"iNeuron Full Stack Data Science\"\n",
    "print(in_string[1],in_string[3],in_string[5]) # Indexing\n",
    "print(in_string[1:15]) # Slicing"
   ]
  },
  {
   "cell_type": "code",
   "execution_count": null,
   "id": "67d8df49",
   "metadata": {},
   "outputs": [],
   "source": [
    "Ans 5.\n",
    "Indexed characters and sliced substrings have datatype String."
   ]
  },
  {
   "cell_type": "code",
   "execution_count": 4,
   "id": "93815e44",
   "metadata": {},
   "outputs": [
    {
     "name": "stdout",
     "output_type": "stream",
     "text": [
      "<class 'str'>\n",
      "<class 'str'>\n"
     ]
    }
   ],
   "source": [
    "in_string = \"iNeuron Full Stack Data Science\"\n",
    "print(type(in_string[3])) # Indexing -> str\n",
    "print(type(in_string[1:10])) # Indexing -> str"
   ]
  },
  {
   "cell_type": "code",
   "execution_count": null,
   "id": "3306c433",
   "metadata": {},
   "outputs": [],
   "source": [
    "Ans 6.\n",
    "Object that contains sequence of character datatypes are called String."
   ]
  },
  {
   "cell_type": "code",
   "execution_count": null,
   "id": "e7e4dd03",
   "metadata": {},
   "outputs": [],
   "source": [
    "Ans 7.\n",
    "+, += and * allow to combine one or more smaller strings to create a larger string. <string>.join(<sep>) \n",
    "method joins element of iterable type like list and tuple to get a combined string."
   ]
  },
  {
   "cell_type": "code",
   "execution_count": 5,
   "id": "390de94e",
   "metadata": {},
   "outputs": [
    {
     "name": "stdout",
     "output_type": "stream",
     "text": [
      "iNeuron Full Stack Data Science FSDS\n",
      "FSDS FSDS FSDS \n",
      "I N E U R O N\n",
      "i n e u r o n\n"
     ]
    }
   ],
   "source": [
    "in_string = 'iNeuron '\n",
    "in_string += 'Full Stack Data Science'\n",
    "print(in_string + ' FSDS')\n",
    "print('FSDS '*3)\n",
    "print(\" \".join(['I','N','E','U','R','O','N'])) # List Iterable\n",
    "print(\" \".join(('I','N','E','U','R','O','N')).lower()) # Tuple Iterable"
   ]
  },
  {
   "cell_type": "code",
   "execution_count": null,
   "id": "5aeb4853",
   "metadata": {},
   "outputs": [],
   "source": [
    "Ans 8.\n",
    "Checking the target string with in or not Operators before using the index method to find a substring just helps confirming availability of substring and thus avoid raising of ValueError.\n",
    "Example:\n",
    "in_string = \"ineuron\"\n",
    "in_string.index('x') # Raises ValueError\n",
    "in_string.index('u') # 3"
   ]
  },
  {
   "cell_type": "code",
   "execution_count": null,
   "id": "7ba4836d",
   "metadata": {},
   "outputs": [],
   "source": [
    "Ans 9.\n",
    "The String Operators and built-in methods to Produce Simple Boolean (True/False) Results are:"
   ]
  },
  {
   "cell_type": "markdown",
   "id": "fc7b3a4f",
   "metadata": {},
   "source": [
    "- **in**\n",
    "- **not**\n",
    "- **<string>.isalpha()**\n",
    "- **<string>.isalnum()**\n",
    "- **<string>.isdecimal()**\n",
    "- **<string>.isdigit()**\n",
    "- **<string>.islower()**\n",
    "- **<string>.isnumeric()**\n",
    "- **<string>.isprintable()**\n",
    "- **<string>.isspace()**\n",
    "- **<string>.istitle()**"
   ]
  }
 ],
 "metadata": {
  "kernelspec": {
   "display_name": "Python 3 (ipykernel)",
   "language": "python",
   "name": "python3"
  },
  "language_info": {
   "codemirror_mode": {
    "name": "ipython",
    "version": 3
   },
   "file_extension": ".py",
   "mimetype": "text/x-python",
   "name": "python",
   "nbconvert_exporter": "python",
   "pygments_lexer": "ipython3",
   "version": "3.9.13"
  }
 },
 "nbformat": 4,
 "nbformat_minor": 5
}
