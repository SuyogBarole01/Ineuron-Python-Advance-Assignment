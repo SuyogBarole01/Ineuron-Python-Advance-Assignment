{
 "cells": [
  {
   "cell_type": "code",
   "execution_count": null,
   "id": "2aac151c",
   "metadata": {},
   "outputs": [],
   "source": [
    "Q1. What is the purpose of Python's OOP?\n",
    "\n",
    "Ans: Object-oriented programming is a programming paradigm that provides a means of structuring programs so that \n",
    "    properties and behaviors are bundled into individual objects\n",
    "\n",
    "-In Python, object-oriented Programming (OOPs) uses objects and classes in programming.\n",
    "-It aims to implement real-world entities like inheritance, polymorphisms, encapsulation, etc. in the programming.\n",
    "-The main concept of OOPs is to bind the data and the functions that work on that together as a single unit so that \n",
    " no other part of the code can access this data.\n",
    "-It comes up with the following advantages:\n",
    "-It helps to divide our over all program into different small segments and thus making it solving easy with the use \n",
    " of objects\n",
    "-Helps in easy maintenance and modification of existing program\n",
    "-Multiple instances of an object can be made."
   ]
  },
  {
   "cell_type": "code",
   "execution_count": null,
   "id": "3f3d9e30",
   "metadata": {},
   "outputs": [],
   "source": [
    "Q2. Where does an inheritance search look for an attribute?\n",
    "\n",
    "Ans: Python searches for an attribute in an upward tree of attributes. it first searches for the attribute in \n",
    "    its instance and then looks in the class it is generated from, to all super classes listed in its class header"
   ]
  },
  {
   "cell_type": "code",
   "execution_count": null,
   "id": "0c54489a",
   "metadata": {},
   "outputs": [],
   "source": [
    "Q3. How do you distinguish between a class object and an instance object?\n",
    "\n",
    "Ans: The differences between a class object and an instance object are:\n",
    "\n",
    "-Class is a template for creating objects whereas object is an instance of class\n",
    "-Seperate memory is allocated for each object whenever an object is created. but for a class this doesnot happens.\n",
    "-A Class is created once. Many objects are created using a class.\n",
    "-As Classes have no allocated memory. they can't be manipulated. but objects can be manipulated."
   ]
  },
  {
   "cell_type": "code",
   "execution_count": null,
   "id": "c567fa43",
   "metadata": {},
   "outputs": [],
   "source": [
    "Q4. What makes the first argument in a class’s method function special?\n",
    "\n",
    "Ans: Python Classes usually have three types of methods which are:\n",
    "\n",
    "-Instance Methods (object level methods)\n",
    "-Class Methods (class level methods)\n",
    "-Static Methods (general utility methods)\n",
    "-self is the first argument for instance methods. which refers to the object itself\n",
    "-cls is the first argument for class methods which refers to the class itself"
   ]
  },
  {
   "cell_type": "code",
   "execution_count": null,
   "id": "73beabc4",
   "metadata": {},
   "outputs": [],
   "source": [
    "Q5. What is the purpose of the init method?\n",
    "\n",
    "Ans: __init__ is a reseved method in python classes. It serves the role of a constructor in object oriented \n",
    "    terminology. This method is called when an object is created from a class and it allows the class to initialize \n",
    "    the attributes of the class"
   ]
  },
  {
   "cell_type": "code",
   "execution_count": null,
   "id": "87770f59",
   "metadata": {},
   "outputs": [],
   "source": [
    "Q6. What is the process for creating a class instance?\n",
    "\n",
    "Ans: To create a class instance, we need to call the class by its name and pass the arguments to the class, which \n",
    "its init method accepts.\n",
    "\n",
    "Example: my_name = my_class(\"Suyog\",\"Barole\") Here my_name is an instance of class my_class with attributes \"Suyog\" \n",
    "    and \"Barole\"."
   ]
  },
  {
   "cell_type": "code",
   "execution_count": null,
   "id": "b41c34b6",
   "metadata": {},
   "outputs": [],
   "source": [
    "Q7. What is the process for creating a class?\n",
    "\n",
    "Ans: class keyword is used to created a class in python. The syntax to create a class in python is \n",
    "    class <classname>:\n",
    "\n",
    "Example: class Car: ➞ this creates a class called Car"
   ]
  },
  {
   "cell_type": "code",
   "execution_count": null,
   "id": "9f783925",
   "metadata": {},
   "outputs": [],
   "source": [
    "Q8. How would you define the superclasses of a class?\n",
    "\n",
    "Ans Superclass/Parent class is given as a arugment to the child class\n",
    "\n",
    "Example: class Employee(Person): Here child class Employee inherits attributes and methofs from Superclass/Parent \n",
    "        Person"
   ]
  }
 ],
 "metadata": {
  "kernelspec": {
   "display_name": "Python 3 (ipykernel)",
   "language": "python",
   "name": "python3"
  },
  "language_info": {
   "codemirror_mode": {
    "name": "ipython",
    "version": 3
   },
   "file_extension": ".py",
   "mimetype": "text/x-python",
   "name": "python",
   "nbconvert_exporter": "python",
   "pygments_lexer": "ipython3",
   "version": "3.9.13"
  }
 },
 "nbformat": 4,
 "nbformat_minor": 5
}
