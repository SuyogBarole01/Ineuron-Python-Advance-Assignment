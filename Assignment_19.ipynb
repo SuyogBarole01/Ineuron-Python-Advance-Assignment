{
 "cells": [
  {
   "cell_type": "code",
   "execution_count": null,
   "id": "8ff41df5",
   "metadata": {},
   "outputs": [],
   "source": [
    "Ans 1.\n",
    "Relationship between a class and its instances is a one to many partnership."
   ]
  },
  {
   "cell_type": "code",
   "execution_count": null,
   "id": "2125a488",
   "metadata": {},
   "outputs": [],
   "source": [
    "Ans 2.\n",
    "Instance objects contains the Instance variables which are specific to that specific Instance object."
   ]
  },
  {
   "cell_type": "code",
   "execution_count": null,
   "id": "bfa0b31b",
   "metadata": {},
   "outputs": [],
   "source": [
    "Ans 3.\n",
    "Class creates a user-defined data structure, which holds its own data members and member functions, \n",
    "which can be accessed and used by creating an instance of that class. A class is like a blueprint for \n",
    "an object."
   ]
  },
  {
   "cell_type": "code",
   "execution_count": null,
   "id": "84c7183d",
   "metadata": {},
   "outputs": [],
   "source": [
    "Ans 4.\n",
    "The methods with a class can be used to access the insatnce variables of its instance. So,the object's \n",
    "state can be modified by its method. Function can't access the attributes of an instance of a class or \n",
    "can't modify the state of the object."
   ]
  },
  {
   "cell_type": "code",
   "execution_count": null,
   "id": "f7c54d4a",
   "metadata": {},
   "outputs": [],
   "source": [
    "Ans 5.\n",
    "Yes,Python supports inheritance. The Types of Inheritence Supported by Python are:\n",
    "\n",
    "1.Simple Inheritence\n",
    "2.Multiple Inheritence\n",
    "3.Multilevel lInheritence\n",
    "4.Hybrid Inheritence\n",
    "5.Hierracial Inheritence"
   ]
  },
  {
   "cell_type": "code",
   "execution_count": null,
   "id": "9064421e",
   "metadata": {},
   "outputs": [],
   "source": [
    "class Person:\n",
    "    def __init__(self, fname, lname):\n",
    "        self.first_name = fname\n",
    "        self.last_name = lname\n",
    "class Student(Person):\n",
    "    pass"
   ]
  },
  {
   "cell_type": "code",
   "execution_count": null,
   "id": "85dadc7c",
   "metadata": {},
   "outputs": [],
   "source": [
    "Ans 6.\n",
    "Encapsulation describes the idea of wrapping data and the methods that work on data within one unit.\n",
    "This puts restrictions on accessing variables and methods directly and can prevent the accidental \n",
    "modification of data. To prevent accidental change, an objects variable can only be changed by an \n",
    "objects method."
   ]
  },
  {
   "cell_type": "code",
   "execution_count": null,
   "id": "605c3447",
   "metadata": {},
   "outputs": [],
   "source": [
    "Ans 7.\n",
    "The Class Attribute is available to all the instance objects of that class. whereas Instance Attributes\n",
    "are accessible only to the object or Instance of that class.\n",
    "\n",
    "A single copy of Class attributes is maintained by pvm at the class level. Whereas difference copies of \n",
    "instance attributes are maintained by pvm at objects/instance level."
   ]
  },
  {
   "cell_type": "code",
   "execution_count": null,
   "id": "6376be80",
   "metadata": {},
   "outputs": [],
   "source": [
    "Ans 8.\n",
    "Yes, self can included in class method definations to access the instance variables inside class methods."
   ]
  },
  {
   "cell_type": "code",
   "execution_count": null,
   "id": "34f3be2c",
   "metadata": {},
   "outputs": [],
   "source": [
    "Ans 9.\n",
    "Entering __radd__ Python will first try __add__(), and if that returns Not Implemented Python will \n",
    "check if the right-hand operand implements __radd__, and if it does, it will call __radd__() rather \n",
    "than raising a TypeError"
   ]
  },
  {
   "cell_type": "code",
   "execution_count": null,
   "id": "90fac4c8",
   "metadata": {},
   "outputs": [],
   "source": [
    "Ans 10.\n",
    "Reflection method we often encounter the requirement that a method in the executing object, or a variable\n",
    "in the calling object, or a field of the object should be assigned, while the method name or field name can\n",
    "not be determined when encoding the code, and need to be input in the form of passing strings through \n",
    "parameters."
   ]
  },
  {
   "cell_type": "code",
   "execution_count": null,
   "id": "27fc2ca9",
   "metadata": {},
   "outputs": [],
   "source": [
    "Ans 11.\n",
    "__iadd__ method is called when we use implementation like a+=b which is a.__iadd__(b)"
   ]
  },
  {
   "cell_type": "code",
   "execution_count": null,
   "id": "d28213e2",
   "metadata": {},
   "outputs": [],
   "source": [
    "Ans 12.\n",
    "Yes, __init__ method will be inherited by subclasses. if we want to customize its behaviour within a \n",
    "subclass we can use super() method."
   ]
  }
 ],
 "metadata": {
  "kernelspec": {
   "display_name": "Python 3 (ipykernel)",
   "language": "python",
   "name": "python3"
  },
  "language_info": {
   "codemirror_mode": {
    "name": "ipython",
    "version": 3
   },
   "file_extension": ".py",
   "mimetype": "text/x-python",
   "name": "python",
   "nbconvert_exporter": "python",
   "pygments_lexer": "ipython3",
   "version": "3.9.13"
  }
 },
 "nbformat": 4,
 "nbformat_minor": 5
}
