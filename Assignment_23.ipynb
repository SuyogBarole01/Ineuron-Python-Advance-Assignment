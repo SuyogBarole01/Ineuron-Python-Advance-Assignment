{
 "cells": [
  {
   "cell_type": "code",
   "execution_count": null,
   "id": "58d47235",
   "metadata": {},
   "outputs": [],
   "source": [
    "Ans 1.\n",
    "Matplotlib provides a convenient method called subplots for increasing the comparison between different \n",
    "figures on the same graph. Subplots mean a group of smaller axes (where each axis is a plot) that can \n",
    "exist together within a single figure."
   ]
  },
  {
   "cell_type": "code",
   "execution_count": null,
   "id": "827d5735",
   "metadata": {},
   "outputs": [],
   "source": [
    "Ans 2.\n",
    "Compound interest makes a sum of money grow at a faster rate than simple interest,because in addition to \n",
    "earning returns on the money you invest, you also earn returns on those returns at the end of every \n",
    "compounding period, which could be daily, monthly, quarterly or annually."
   ]
  },
  {
   "cell_type": "code",
   "execution_count": null,
   "id": "67f4b8a5",
   "metadata": {},
   "outputs": [],
   "source": [
    "Ans 3.\n",
    "Histogram shows total values of X wrt Y. Which means at any particular position of X, Y value shows the \n",
    "total number of counts or data below that value of X. numpy.histogram() is the built in function used."
   ]
  },
  {
   "cell_type": "code",
   "execution_count": null,
   "id": "0a8ecb99",
   "metadata": {},
   "outputs": [],
   "source": [
    "Ans 4.\n",
    "We can use figure(figsize=(10,8)) function inside the matplot.pyplot library which we scale down or up the graph."
   ]
  },
  {
   "cell_type": "markdown",
   "id": "03b7d7b0",
   "metadata": {},
   "source": [
    "Ans 5.\n",
    "In regular multiplication values of same index get multiplied.\n",
    "\n",
    "- In dot product there is row wise multiplication, row of one array with column of second array and so on.\n",
    "- In outer multiplication every element of first array a1 will be multiply by every element of other array a2 \n",
    "such such the number of columns will be equal to the number of element in another array a2."
   ]
  },
  {
   "cell_type": "markdown",
   "id": "a074c80d",
   "metadata": {},
   "source": [
    "Ans 6.\n",
    "np.pmt(rate, nper, pv) function we will be using in order to calculate monthly mortgage payment before you purchase a house.\n",
    "\n",
    "- rate = The periodic interest rate\n",
    "- nper = The number of payment periods\n",
    "- pv = The total value of the mortgage loan\n"
   ]
  },
  {
   "cell_type": "code",
   "execution_count": null,
   "id": "0fb52371",
   "metadata": {},
   "outputs": [],
   "source": [
    "Ans 7.\n",
    "Yes, an array can store the string. The limitation which imposed on the string data is, whenever we store \n",
    "the data of string dtype then it should should keep in mind that the string which is having the maximum \n",
    "length is the limit."
   ]
  }
 ],
 "metadata": {
  "kernelspec": {
   "display_name": "Python 3 (ipykernel)",
   "language": "python",
   "name": "python3"
  },
  "language_info": {
   "codemirror_mode": {
    "name": "ipython",
    "version": 3
   },
   "file_extension": ".py",
   "mimetype": "text/x-python",
   "name": "python",
   "nbconvert_exporter": "python",
   "pygments_lexer": "ipython3",
   "version": "3.9.13"
  }
 },
 "nbformat": 4,
 "nbformat_minor": 5
}
