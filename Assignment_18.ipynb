{
 "cells": [
  {
   "cell_type": "code",
   "execution_count": null,
   "id": "a2ad90cd",
   "metadata": {},
   "outputs": [],
   "source": [
    "Ans 1.\n",
    "The differences between Text Files and Binary Files are:\n",
    "\n",
    "Text files are special subset of binary files that are used to store human readable characters as a \n",
    "rich text document or plain text document. Text files also store data in sequential bytes but bits in \n",
    "text file represents characters.\n",
    "\n",
    "Binary files are those typical files that store data in the form of sequence of bytes grouped into \n",
    "eight bits or sometimes sixteen bits. These bits represent custom data and such files can store multiple \n",
    "types of data (images, audio, text, etc) under a single file."
   ]
  },
  {
   "cell_type": "code",
   "execution_count": null,
   "id": "77bb5f42",
   "metadata": {},
   "outputs": [],
   "source": [
    "Ans 2.\n",
    "Text files are less prone to get corrupted as any undesired change may just show up once the file is \n",
    "opened and then can easily be removed. Whereas Use binary files instead of text files for image data."
   ]
  },
  {
   "cell_type": "code",
   "execution_count": null,
   "id": "546ff71b",
   "metadata": {},
   "outputs": [],
   "source": [
    "Ans 3.\n",
    "When we read or write a python integer using binary operations\n",
    "\n",
    "1.Binary operations deal with raw data\n",
    "2.One needs to identify how many bytes one would read or write."
   ]
  },
  {
   "cell_type": "code",
   "execution_count": null,
   "id": "ec58eea0",
   "metadata": {},
   "outputs": [],
   "source": [
    "Ans 4.\n",
    "When a file is opened using the with keyword, if some exceptions occur after opening a file, or at the \n",
    "end of the file it automatically does the closing of the file. There by not leaving an file in open mode \n",
    "and there would no need to explicitly close a file."
   ]
  },
  {
   "cell_type": "code",
   "execution_count": null,
   "id": "1533ab26",
   "metadata": {},
   "outputs": [],
   "source": [
    "Ans 5.\n",
    "Yes, Python have the trailing newline while reading a line of text. When we write a newline has to \n",
    "be provided in python excpicitly."
   ]
  },
  {
   "cell_type": "code",
   "execution_count": null,
   "id": "44b63a1d",
   "metadata": {},
   "outputs": [],
   "source": [
    "Ans 6.\n",
    "The file operations enable for random-access operation are seek() and tell()"
   ]
  },
  {
   "cell_type": "code",
   "execution_count": null,
   "id": "13c032c2",
   "metadata": {},
   "outputs": [],
   "source": [
    "Ans 7.\n",
    "The struct package is mostly used while converting a common python types into C language types."
   ]
  },
  {
   "cell_type": "code",
   "execution_count": null,
   "id": "fdd4e859",
   "metadata": {},
   "outputs": [],
   "source": [
    "Ans 8.\n",
    "Pickling is best option for creating a new binary file using python."
   ]
  },
  {
   "cell_type": "code",
   "execution_count": null,
   "id": "2c5dd438",
   "metadata": {},
   "outputs": [],
   "source": [
    "Ans 9.\n",
    "Shelve package is used to pickle data but treats the entire file as dictionary."
   ]
  },
  {
   "cell_type": "code",
   "execution_count": null,
   "id": "c4aec3a4",
   "metadata": {},
   "outputs": [],
   "source": [
    "Ans 10.\n",
    "Only string data type can be used as key in this special dictionary object, whereas any picklable \n",
    "Python object can be used as value."
   ]
  }
 ],
 "metadata": {
  "kernelspec": {
   "display_name": "Python 3 (ipykernel)",
   "language": "python",
   "name": "python3"
  },
  "language_info": {
   "codemirror_mode": {
    "name": "ipython",
    "version": 3
   },
   "file_extension": ".py",
   "mimetype": "text/x-python",
   "name": "python",
   "nbconvert_exporter": "python",
   "pygments_lexer": "ipython3",
   "version": "3.9.13"
  }
 },
 "nbformat": 4,
 "nbformat_minor": 5
}
