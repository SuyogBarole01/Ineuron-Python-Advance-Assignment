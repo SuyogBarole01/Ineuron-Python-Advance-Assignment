{
 "cells": [
  {
   "cell_type": "code",
   "execution_count": null,
   "id": "0b6276f7",
   "metadata": {},
   "outputs": [],
   "source": [
    "Ans 1.\n",
    "Yes, it is permissible to use several import statements to import the same module. It is used in case \n",
    "when we have to import multiple functions from same module."
   ]
  },
  {
   "cell_type": "markdown",
   "id": "2c52eaff",
   "metadata": {},
   "source": [
    "Ans 2.\n",
    "The following are some of a module's characteristics:\n",
    "\n",
    "- __name__ : It returns the name of the module\n",
    "- __doc__ : It denotes the documentation string line written in a module code.\n",
    "- __file__ : It holds the name and path of the module file from which it is loaded\n",
    "- __dict__ : It return a dictionary object of module attributes, functions and other definitions and their respective values"
   ]
  },
  {
   "cell_type": "code",
   "execution_count": null,
   "id": "cb5a587c",
   "metadata": {},
   "outputs": [],
   "source": [
    "Ans 3.\n",
    "Circular importing means importing the two modules in each other. If suppose we are wokring in MOD1.py \n",
    "file and it is importing some function say F2() from some other module say MOD2.PY file or we can do \n",
    "vice-versa. What will happen is: This will give an import error.\n",
    "\n",
    "This is because when we import F2() function from module MOD2.py, then this will execute MOD2.py file. \n",
    "And in MOD2.py file there is an another statement of importing MOD1.py module.\n",
    "\n",
    "This will result in endless loop. To avoid this error just do one thingWe can use if __name__ == '__main__'\n",
    "\n",
    "In the function, you can't directly refer to the function in the program. The addition of this sentence \n",
    "avoids the endless loop of the program ."
   ]
  },
  {
   "cell_type": "code",
   "execution_count": null,
   "id": "9220420f",
   "metadata": {},
   "outputs": [],
   "source": [
    "Ans 4.\n",
    "It provides list of all modules present in a library."
   ]
  },
  {
   "cell_type": "code",
   "execution_count": null,
   "id": "b56d186d",
   "metadata": {},
   "outputs": [],
   "source": [
    "Ans 5.\n",
    "During the time of execution of the code if we want to refer the module in which we are working \n",
    "on then we uses name attribute. In that case it will return the module in which we are working on. \n",
    "Suppose if that moudle is being imported from some other module then name will have the name of that \n",
    "moudle from where the current module has been imported. The current module in which we are working is \n",
    "refer to the string __main __."
   ]
  }
 ],
 "metadata": {
  "kernelspec": {
   "display_name": "Python 3 (ipykernel)",
   "language": "python",
   "name": "python3"
  },
  "language_info": {
   "codemirror_mode": {
    "name": "ipython",
    "version": 3
   },
   "file_extension": ".py",
   "mimetype": "text/x-python",
   "name": "python",
   "nbconvert_exporter": "python",
   "pygments_lexer": "ipython3",
   "version": "3.9.13"
  }
 },
 "nbformat": 4,
 "nbformat_minor": 5
}
