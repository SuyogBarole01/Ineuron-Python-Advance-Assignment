{
 "cells": [
  {
   "cell_type": "code",
   "execution_count": null,
   "id": "39ee6bff",
   "metadata": {},
   "outputs": [],
   "source": [
    "Ans 1.\n",
    "Regular Expressions, also known as regex or regexp, are used to match strings of text such as \n",
    "particular characters, words, or patterns of characters. It means that we can match and extract \n",
    "any string pattern from the text with the help of regular expressions. it helps the programmers to \n",
    "Write less and cleaner code. it also avoids multiple use of if/else statements."
   ]
  },
  {
   "cell_type": "code",
   "execution_count": null,
   "id": "a13435f6",
   "metadata": {},
   "outputs": [],
   "source": [
    "Ans 2.\n",
    "Both (ab)c+ and a(bc)+ are valid patterns. the difference between both these patterns is in (ab)c+ ab \n",
    "is group whereas in a(bc)+ bc is a group."
   ]
  },
  {
   "cell_type": "code",
   "execution_count": null,
   "id": "fe5e5534",
   "metadata": {},
   "outputs": [],
   "source": [
    "Ans 3.\n",
    "import re statement always has to be imported before using regular expressions."
   ]
  },
  {
   "cell_type": "code",
   "execution_count": null,
   "id": "91e70d59",
   "metadata": {},
   "outputs": [],
   "source": [
    "Ans 4.\n",
    "The Characters .,*,?,^,or,(), have a special signiface when used with square brackets. They need \n",
    "not be be explicitly escaped by \\ as in case of pattern texts in a raw string."
   ]
  },
  {
   "cell_type": "code",
   "execution_count": null,
   "id": "95c19f4a",
   "metadata": {},
   "outputs": [],
   "source": [
    "Ans 5.\n",
    "We can Combine a regular expression pattern into pattern Objects.Which can be used for pattern \n",
    "matching. it also helps to search a pattern again without rewritting it."
   ]
  },
  {
   "cell_type": "code",
   "execution_count": null,
   "id": "d583506c",
   "metadata": {},
   "outputs": [],
   "source": [
    "Ans 6.\n",
    "The re.search() and re.match() both are functions of re module in python. These functions are very \n",
    "efficient and fast for searching in strings. The function searches for some substring in a string and \n",
    "returns a match object if found, else it returns none.\n",
    "\n",
    "There is a difference between the use of both functions. Both return the first match of a substring \n",
    "found in the string, but re.match() searches only from the beginning of the string and return match object \n",
    "if found. But if a match of substring is found somewhere in the middle of the string, it returns none.\n",
    "\n",
    "While re.search() searches for the whole string even if the string contains multi-lines and tries to \n",
    "find a match of the substring in all the lines of string"
   ]
  },
  {
   "cell_type": "code",
   "execution_count": 1,
   "id": "571ffc09",
   "metadata": {},
   "outputs": [
    {
     "name": "stdout",
     "output_type": "stream",
     "text": [
      "<re.Match object; span=(66, 72), match='string'>\n",
      "None\n",
      "<re.Match object; span=(0, 6), match='string'>\n",
      "<re.Match object; span=(0, 6), match='string'>\n"
     ]
    }
   ],
   "source": [
    "import re\n",
    "Substring ='string' \n",
    "String1 ='We are learning regex with geeksforgeeks regex is very useful for string matching. It is fast too.' \n",
    "String2 ='string We are learning regex with geeksforgeeks regex is very useful for string matching. It is fast too.'\n",
    "print(re.search(Substring, String1, re.IGNORECASE))\n",
    "print(re.match(Substring, String1, re.IGNORECASE))\n",
    "print(re.search(Substring, String2, re.IGNORECASE))\n",
    "print(re.match(Substring, String2, re.IGNORECASE))"
   ]
  },
  {
   "cell_type": "code",
   "execution_count": null,
   "id": "51f21274",
   "metadata": {},
   "outputs": [],
   "source": [
    "Ans 7.\n",
    "When | us used then patterns searches for or option. i.e <pattern_1>|<pattern_2> means it \n",
    "searches as <pattern_1>or<<pattern_2> in the searched string. the first occurance of matched \n",
    "string will be returned as the Match Object. Using Character set in square Brackets searches for \n",
    "ll the character set in the square bracket and if match is found, it returns it."
   ]
  },
  {
   "cell_type": "code",
   "execution_count": null,
   "id": "42d4bcc9",
   "metadata": {},
   "outputs": [],
   "source": [
    "Ans 8.\n",
    "Raw Strings are used in the regular-expression search patterns, so that blackslashes donot have to be escaped."
   ]
  }
 ],
 "metadata": {
  "kernelspec": {
   "display_name": "Python 3 (ipykernel)",
   "language": "python",
   "name": "python3"
  },
  "language_info": {
   "codemirror_mode": {
    "name": "ipython",
    "version": 3
   },
   "file_extension": ".py",
   "mimetype": "text/x-python",
   "name": "python",
   "nbconvert_exporter": "python",
   "pygments_lexer": "ipython3",
   "version": "3.9.13"
  }
 },
 "nbformat": 4,
 "nbformat_minor": 5
}
