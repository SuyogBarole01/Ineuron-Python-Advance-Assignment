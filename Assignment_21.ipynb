{
 "cells": [
  {
   "cell_type": "code",
   "execution_count": null,
   "id": "42965514",
   "metadata": {},
   "outputs": [],
   "source": [
    "Ans 1.\n",
    "probability distribution describes how a random variable is distributed.\n",
    "\n",
    "It tells us which values a random variable is most likely to take on and which values are less likely.\n",
    "Based on the previous data and the occurences of the random event, we can predict the outcome in terms \n",
    "of probabilities."
   ]
  },
  {
   "cell_type": "code",
   "execution_count": null,
   "id": "8dddfb87",
   "metadata": {},
   "outputs": [],
   "source": [
    "Ans 2.\n",
    "True Random Numbers are true physical values while pseudo-random numbers are generated internally by a \n",
    "program . Latter is considered good enough as they have sort of uniform distribution.True Random Numbers \n",
    "are true physical values while pseudo-random numbers are generated internally by a program . Latter is \n",
    "considered good enough as they have sort of uniform distribution."
   ]
  },
  {
   "cell_type": "code",
   "execution_count": null,
   "id": "7d2ae283",
   "metadata": {},
   "outputs": [],
   "source": [
    "Ans 3.\n",
    "Normal Probability Distribution are influenced by two factors mean and the variance."
   ]
  },
  {
   "cell_type": "code",
   "execution_count": null,
   "id": "634df405",
   "metadata": {},
   "outputs": [],
   "source": [
    "Ans 4.\n",
    "A Real-life example of a normal distribution are heights or blood pressure measurements"
   ]
  },
  {
   "cell_type": "code",
   "execution_count": null,
   "id": "5b437707",
   "metadata": {},
   "outputs": [],
   "source": [
    "Ans 5.\n",
    "Variance will decrease with number of trials"
   ]
  },
  {
   "cell_type": "code",
   "execution_count": null,
   "id": "af746fa0",
   "metadata": {},
   "outputs": [],
   "source": [
    "Ans 6.\n",
    "lists (list), strings (str) and tuples (tuple) objects can be shuffled by using random.shuffle."
   ]
  },
  {
   "cell_type": "code",
   "execution_count": null,
   "id": "99fd426e",
   "metadata": {},
   "outputs": [],
   "source": [
    "Ans 7.\n",
    "The Math package's general categories of functions are:\n",
    "\n",
    "1.Trigonometric functions\n",
    "2.Quadratic functions\n",
    "3.Exponential functions\n",
    "4.Hyperbolic functions\n",
    "5.Periodic functions\n",
    "6.Arithmetic functions\n",
    "7.Logarithimic functions\n",
    "8.Conversions to Integer"
   ]
  },
  {
   "cell_type": "code",
   "execution_count": null,
   "id": "2a163d30",
   "metadata": {},
   "outputs": [],
   "source": [
    "Ans 8.\n",
    "Exponentiation and logarithms are inverse of each other."
   ]
  },
  {
   "cell_type": "code",
   "execution_count": null,
   "id": "75cc0b2c",
   "metadata": {},
   "outputs": [],
   "source": [
    "Ans 9.\n",
    "The Three Logarithmic Functions that Python supports are:\n",
    "\n",
    "1.log2(x) - logarithmic value of x to base 2\n",
    "2.log10(x) - logarithmic value of x to base 10\n",
    "3.log1p(a) - This function is used to compute logarithm(1+a) ."
   ]
  }
 ],
 "metadata": {
  "kernelspec": {
   "display_name": "Python 3 (ipykernel)",
   "language": "python",
   "name": "python3"
  },
  "language_info": {
   "codemirror_mode": {
    "name": "ipython",
    "version": 3
   },
   "file_extension": ".py",
   "mimetype": "text/x-python",
   "name": "python",
   "nbconvert_exporter": "python",
   "pygments_lexer": "ipython3",
   "version": "3.9.13"
  }
 },
 "nbformat": 4,
 "nbformat_minor": 5
}
