{
 "cells": [
  {
   "cell_type": "code",
   "execution_count": null,
   "id": "13b9b28e",
   "metadata": {},
   "outputs": [],
   "source": [
    "Ans 1.\n",
    "__iter__ and __next__ are the operator overloading methods in python that support iteration and are collectively \n",
    "called iterator protocol.\n",
    "\n",
    "1.__iter__ returns the iterator object and is called at the start of loop in our respective class.\n",
    "2.__next__ is called at each loop increment, it returns the incremented value. Also Stopiteration is raised when \n",
    "there is no value to return."
   ]
  },
  {
   "cell_type": "code",
   "execution_count": 1,
   "id": "d325980b",
   "metadata": {},
   "outputs": [
    {
     "name": "stdout",
     "output_type": "stream",
     "text": [
      "5 6 7 8 9 10 11 12 13 14 15 "
     ]
    }
   ],
   "source": [
    "class Counter:\n",
    "    def __init__(self,low,high):\n",
    "        self.current = low\n",
    "        self.high = high\n",
    "    def __iter__(self):\n",
    "        return self\n",
    "    def __next__(self):\n",
    "        if self.current > self.high:\n",
    "            raise StopIteration\n",
    "        else:\n",
    "            self.current += 1\n",
    "            return self.current - 1\n",
    "for ele in Counter(5,15):\n",
    "    print(ele, end=\" \")"
   ]
  },
  {
   "cell_type": "code",
   "execution_count": null,
   "id": "76e175b5",
   "metadata": {},
   "outputs": [],
   "source": [
    "Ans 2.\n",
    "__str__ and __repr__ are two operator overloading methods that manage printing.\n",
    "\n",
    "1.In Short, the difference between both these operators is the goal of __repr__ is to be unambiguous and __str__ is \n",
    "to be readable.\n",
    "2.Whenever we are printing any object reference internally __str__ method will be called by default.\n",
    "3.The main purpose of __str__ is for readability. it prints the informal string representation of an object, one that \n",
    "is useful for printing the object. it may not be possible to convert result string to original object.\n",
    "4.__repr__ is used to print official string representation of an object, so it includes all information and \n",
    "development."
   ]
  },
  {
   "cell_type": "code",
   "execution_count": 2,
   "id": "a2acb241",
   "metadata": {},
   "outputs": [
    {
     "name": "stdout",
     "output_type": "stream",
     "text": [
      "<__main__.Student object at 0x7ff3b0377220>\n",
      "Student Name: Mano and Roll No: 1\n",
      "2023-05-13 11:56:03.387227\n",
      "Unable to convert back to original object\n",
      "datetime.datetime(2023, 5, 13, 11, 56, 3, 387227)\n",
      "2023-05-13 11:56:03.387227\n"
     ]
    }
   ],
   "source": [
    "class Student:\n",
    "    def __init__(self,name,roll_no):\n",
    "        self.name = name\n",
    "        self.roll_no = roll_no\n",
    "        \n",
    "s1 = Student(\"Mano\",1)\n",
    "print(str(s1))\n",
    "\n",
    "class Student:\n",
    "    def __init__(self,name,roll_no):\n",
    "        self.name = name\n",
    "        self.roll_no = roll_no\n",
    "    def __str__(self):\n",
    "        return f'Student Name: {self.name} and Roll No: {self.roll_no}'\n",
    "    \n",
    "s1 = Student(\"Mano\",1)\n",
    "print(str(s1))\n",
    "\n",
    "import datetime\n",
    "today = datetime.datetime.now()\n",
    "\n",
    "s = str(today) # converting datetime object to presentable str\n",
    "print(s)\n",
    "try: d = eval(s) # converting str back to datetime object\n",
    "except: print(\"Unable to convert back to original object\")\n",
    "    \n",
    "u = repr(today) # converting datetime object to str\n",
    "print(u)\n",
    "e = eval(u) # converting str back to datetime object\n",
    "print(e)"
   ]
  },
  {
   "cell_type": "code",
   "execution_count": null,
   "id": "151730cd",
   "metadata": {},
   "outputs": [],
   "source": [
    "Ans 3.\n",
    "In a class use of slice() in __getitem__ method is used for intercept slice operation. This slice method is \n",
    "provided with start integer number, stop integer number and step integer number.\n",
    "\n",
    "Example: __getitem__(slice(start,stop,step))"
   ]
  },
  {
   "cell_type": "code",
   "execution_count": null,
   "id": "7cbcdefe",
   "metadata": {},
   "outputs": [],
   "source": [
    "Ans 4.\n",
    "a+b is normal addition. Whereas a+=b is inplace addition operation. In this in-place addition a itself will store \n",
    "the value of addition. In a class __iadd__ method is used for this in-place operation"
   ]
  },
  {
   "cell_type": "code",
   "execution_count": 3,
   "id": "be48dc2a",
   "metadata": {},
   "outputs": [
    {
     "name": "stdout",
     "output_type": "stream",
     "text": [
      "300\n"
     ]
    }
   ],
   "source": [
    "class Book:\n",
    "    def __init__(self,pages):\n",
    "        self.pages = pages\n",
    "    def __iadd__(self,other):\n",
    "        self.pages += other.pages\n",
    "        return self.pages\n",
    "        \n",
    "b1 = Book(100)\n",
    "b2 = Book(200)\n",
    "b1+=b2\n",
    "print(b1)"
   ]
  },
  {
   "cell_type": "code",
   "execution_count": null,
   "id": "bef54e09",
   "metadata": {},
   "outputs": [],
   "source": [
    "Ans 5.\n",
    "Operator overloading is used when we want to use an operator other than its normal operation to have different \n",
    "meaning according to the context required in user defined function."
   ]
  },
  {
   "cell_type": "code",
   "execution_count": 4,
   "id": "7e20231f",
   "metadata": {},
   "outputs": [
    {
     "name": "stdout",
     "output_type": "stream",
     "text": [
      "Total Number of Pages -> 300\n"
     ]
    }
   ],
   "source": [
    "class Book:\n",
    "    def __init__(self,pages):\n",
    "        self.pages = pages\n",
    "    def __add__(self,other):\n",
    "        return self.pages+other.pages\n",
    "b1 = Book(100)\n",
    "b2 = Book(200)\n",
    "print(f'Total Number of Pages -> {b1+b2}')"
   ]
  }
 ],
 "metadata": {
  "kernelspec": {
   "display_name": "Python 3 (ipykernel)",
   "language": "python",
   "name": "python3"
  },
  "language_info": {
   "codemirror_mode": {
    "name": "ipython",
    "version": 3
   },
   "file_extension": ".py",
   "mimetype": "text/x-python",
   "name": "python",
   "nbconvert_exporter": "python",
   "pygments_lexer": "ipython3",
   "version": "3.9.13"
  }
 },
 "nbformat": 4,
 "nbformat_minor": 5
}
