{
 "cells": [
  {
   "cell_type": "code",
   "execution_count": null,
   "id": "a507861a",
   "metadata": {},
   "outputs": [],
   "source": [
    "Ans 1.\n",
    "Exception Processing is important to find exceptions that causes the runtime error. As runtime errors Halt the program execution when exception occurs.\n",
    "\n",
    "Exception Processing is used in Various Applications of which few examples are:\n",
    "\n",
    "1.Checking Appropriate use of input in an application\n",
    "2.Checking for Arithmetic exceptions in mathematical executions\n",
    "3.Checking File I/O exceptions during File handling"
   ]
  },
  {
   "cell_type": "code",
   "execution_count": null,
   "id": "a3f9c98a",
   "metadata": {},
   "outputs": [],
   "source": [
    "Ans 2.\n",
    "If Exceptions are not handled flow of program will be broken during the run time which might lead to a abnormal \n",
    "termination of the program. Inshort inability of program to handle exceptions will result in crashing of program."
   ]
  },
  {
   "cell_type": "code",
   "execution_count": null,
   "id": "9bc432e3",
   "metadata": {},
   "outputs": [],
   "source": [
    "Ans 3.\n",
    "Python provides try and except statements for recovering from an exception in your script."
   ]
  },
  {
   "cell_type": "code",
   "execution_count": null,
   "id": "04c28e7e",
   "metadata": {},
   "outputs": [],
   "source": [
    "Ans 4.\n",
    "raise and assert are two methods that can be used to trigger manual exceptions in your script.\n",
    "\n",
    "1.raise method triggers an exception if condition provided to it turns out to be True.\n",
    "2.assert will let the program to continue execution if condition provided to it turns out to be True else exception will be raised"
   ]
  },
  {
   "cell_type": "code",
   "execution_count": 1,
   "id": "3c4db6aa",
   "metadata": {},
   "outputs": [
    {
     "ename": "Exception",
     "evalue": "X Value Should not exceed 5 The Provided Value of X is 10",
     "output_type": "error",
     "traceback": [
      "\u001b[0;31m---------------------------------------------------------------------------\u001b[0m",
      "\u001b[0;31mException\u001b[0m                                 Traceback (most recent call last)",
      "\u001b[0;32m/var/folders/xs/k8gm34y91x1bvhzcjxxdfk3c0000gn/T/ipykernel_3602/1568445858.py\u001b[0m in \u001b[0;36m<module>\u001b[0;34m\u001b[0m\n\u001b[1;32m      1\u001b[0m \u001b[0;31m# Example of raise\u001b[0m\u001b[0;34m\u001b[0m\u001b[0;34m\u001b[0m\u001b[0m\n\u001b[1;32m      2\u001b[0m \u001b[0mx\u001b[0m \u001b[0;34m=\u001b[0m \u001b[0;36m10\u001b[0m\u001b[0;34m\u001b[0m\u001b[0;34m\u001b[0m\u001b[0m\n\u001b[0;32m----> 3\u001b[0;31m \u001b[0;32mraise\u001b[0m \u001b[0mException\u001b[0m\u001b[0;34m(\u001b[0m\u001b[0;34mf'X Value Should not exceed 5 The Provided Value of X is {x}'\u001b[0m\u001b[0;34m)\u001b[0m\u001b[0;34m\u001b[0m\u001b[0;34m\u001b[0m\u001b[0m\n\u001b[0m",
      "\u001b[0;31mException\u001b[0m: X Value Should not exceed 5 The Provided Value of X is 10"
     ]
    }
   ],
   "source": [
    "# Example of raise\n",
    "x = 10\n",
    "raise Exception(f'X Value Should not exceed 5 The Provided Value of X is {x}')"
   ]
  },
  {
   "cell_type": "code",
   "execution_count": 2,
   "id": "05fb35f7",
   "metadata": {},
   "outputs": [
    {
     "ename": "AssertionError",
     "evalue": "2 is not equal to 4",
     "output_type": "error",
     "traceback": [
      "\u001b[0;31m---------------------------------------------------------------------------\u001b[0m",
      "\u001b[0;31mAssertionError\u001b[0m                            Traceback (most recent call last)",
      "\u001b[0;32m/var/folders/xs/k8gm34y91x1bvhzcjxxdfk3c0000gn/T/ipykernel_3602/721007647.py\u001b[0m in \u001b[0;36m<module>\u001b[0;34m\u001b[0m\n\u001b[1;32m      1\u001b[0m \u001b[0;31m# Example of assert\u001b[0m\u001b[0;34m\u001b[0m\u001b[0;34m\u001b[0m\u001b[0m\n\u001b[0;32m----> 2\u001b[0;31m \u001b[0;32massert\u001b[0m\u001b[0;34m(\u001b[0m\u001b[0;36m2\u001b[0m\u001b[0;34m==\u001b[0m\u001b[0;36m4\u001b[0m\u001b[0;34m)\u001b[0m\u001b[0;34m,\u001b[0m \u001b[0;34m\"2 is not equal to 4\"\u001b[0m\u001b[0;34m\u001b[0m\u001b[0;34m\u001b[0m\u001b[0m\n\u001b[0m",
      "\u001b[0;31mAssertionError\u001b[0m: 2 is not equal to 4"
     ]
    }
   ],
   "source": [
    "# Example of assert\n",
    "assert(2==4), \"2 is not equal to 4\""
   ]
  },
  {
   "cell_type": "code",
   "execution_count": null,
   "id": "40f3104a",
   "metadata": {},
   "outputs": [],
   "source": [
    "Ans 5.\n",
    "Python Provides else and finally blocks for specifying actions to be executed at termination time, regardless of \n",
    "whether an exceptions exists or not."
   ]
  }
 ],
 "metadata": {
  "kernelspec": {
   "display_name": "Python 3 (ipykernel)",
   "language": "python",
   "name": "python3"
  },
  "language_info": {
   "codemirror_mode": {
    "name": "ipython",
    "version": 3
   },
   "file_extension": ".py",
   "mimetype": "text/x-python",
   "name": "python",
   "nbconvert_exporter": "python",
   "pygments_lexer": "ipython3",
   "version": "3.9.13"
  }
 },
 "nbformat": 4,
 "nbformat_minor": 5
}
