{
 "cells": [
  {
   "cell_type": "code",
   "execution_count": null,
   "id": "a833550f",
   "metadata": {},
   "outputs": [],
   "source": [
    "Ans 1.\n",
    "try statement is used for exception handling in python. it consists of a block of risky statements \n",
    "which might cause an exception during runtime. if code within try block raises exception, then the \n",
    "exception will be reverted to the corresponding except block if multiple except blocks are present,\n",
    "else it willbe reverted to the default except block. In short try and except in union avoid programs\n",
    "from crashing during runtime due to exceptions."
   ]
  },
  {
   "cell_type": "code",
   "execution_count": 1,
   "id": "2dd0c7f1",
   "metadata": {},
   "outputs": [
    {
     "name": "stdout",
     "output_type": "stream",
     "text": [
      "Division by Zero is Not Possible\n"
     ]
    }
   ],
   "source": [
    "try:\n",
    "    print(10/0)\n",
    "except ZeroDivisionError:\n",
    "    print('Division by Zero is Not Possible')"
   ]
  },
  {
   "cell_type": "code",
   "execution_count": null,
   "id": "95a4e485",
   "metadata": {},
   "outputs": [],
   "source": [
    "Ans 2.\n",
    "The Popular try statement variations are:\n",
    "\n",
    "1.try,except\n",
    "2.try,except,finally\n",
    "3.try,except,finally,else\n",
    "The try block is used to check code for exceptions during runtime. ie code inside try block will execute \n",
    "completely when there is no error in the program. Whereas the code inside except block will execute \n",
    "whenever the program encounters some error in the preceeding try block.\n",
    "\n",
    "Whereas the code enters the else block if and only if the try clause does not raise and exception. \n",
    "The code in the finally block will execute irrespective of exception."
   ]
  },
  {
   "cell_type": "code",
   "execution_count": null,
   "id": "b1aefc18",
   "metadata": {},
   "outputs": [],
   "source": [
    "Ans 3.\n",
    "raise statement is used to trigger an exception explicitly, if a certain condition is not as \n",
    "per requirement of programmer. raise statement helps in triggering exception as per programming logic."
   ]
  },
  {
   "cell_type": "code",
   "execution_count": null,
   "id": "60625983",
   "metadata": {},
   "outputs": [],
   "source": [
    "Ans 4.\n",
    "There are few assertions that programmer always want to be true to avoid code failure. This type \n",
    "of requirement is fulfilled by assert statement. This statement takes a boolean condition output \n",
    "of which is True, Further Program Executes. if output of assert statement is False, it raises an \n",
    "Assertion Error."
   ]
  },
  {
   "cell_type": "code",
   "execution_count": 2,
   "id": "f40cc3c2",
   "metadata": {},
   "outputs": [
    {
     "ename": "AssertionError",
     "evalue": "this is not a valid statement",
     "output_type": "error",
     "traceback": [
      "\u001b[0;31m---------------------------------------------------------------------------\u001b[0m",
      "\u001b[0;31mAssertionError\u001b[0m                            Traceback (most recent call last)",
      "\u001b[0;32m/var/folders/xs/k8gm34y91x1bvhzcjxxdfk3c0000gn/T/ipykernel_3671/3633858684.py\u001b[0m in \u001b[0;36m<module>\u001b[0;34m\u001b[0m\n\u001b[0;32m----> 1\u001b[0;31m \u001b[0;32massert\u001b[0m\u001b[0;34m(\u001b[0m\u001b[0;36m2\u001b[0m \u001b[0;34m==\u001b[0m \u001b[0;36m4\u001b[0m\u001b[0;34m)\u001b[0m\u001b[0;34m,\u001b[0m \u001b[0;34mf'this is not a valid statement'\u001b[0m\u001b[0;34m\u001b[0m\u001b[0;34m\u001b[0m\u001b[0m\n\u001b[0m",
      "\u001b[0;31mAssertionError\u001b[0m: this is not a valid statement"
     ]
    }
   ],
   "source": [
    "assert(2 == 4), f'this is not a valid statement'"
   ]
  },
  {
   "cell_type": "code",
   "execution_count": null,
   "id": "676a063c",
   "metadata": {},
   "outputs": [],
   "source": [
    "Ans 5.\n",
    "with/as statement simplifies use of file handling in python. When we use a with statement for file reading, \n",
    "there is no need for programmer to explicitly takecare of activities like resource deallocation and \n",
    "file closing by using file.close() method. with statement itself ensures proper acquisition and \n",
    "release of resources. this avoids \n",
    "triggering of exceptions if file closing is unknowingly forgotten in the code execution.\n",
    "\n",
    "with open('sample_file.txt','w') as file: file.write('Hello World')"
   ]
  }
 ],
 "metadata": {
  "kernelspec": {
   "display_name": "Python 3 (ipykernel)",
   "language": "python",
   "name": "python3"
  },
  "language_info": {
   "codemirror_mode": {
    "name": "ipython",
    "version": 3
   },
   "file_extension": ".py",
   "mimetype": "text/x-python",
   "name": "python",
   "nbconvert_exporter": "python",
   "pygments_lexer": "ipython3",
   "version": "3.9.13"
  }
 },
 "nbformat": 4,
 "nbformat_minor": 5
}
