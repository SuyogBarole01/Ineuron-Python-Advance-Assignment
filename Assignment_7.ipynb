{
 "cells": [
  {
   "cell_type": "code",
   "execution_count": null,
   "id": "23405e31",
   "metadata": {},
   "outputs": [],
   "source": [
    "Ans 1.\n",
    "try statement is used for exception handling in python. it consists of a block of risky statements which might \n",
    "cause an exception during runtime. if code within try block raises exception, then the exception will be reverted \n",
    "to the corresponding except block if multiple except blocks are present, else it willbe reverted to the default \n",
    "except block. In short try and except in union avoid programs from crashing during runtime due to exceptions."
   ]
  },
  {
   "cell_type": "code",
   "execution_count": 1,
   "id": "4d45c048",
   "metadata": {},
   "outputs": [
    {
     "name": "stdout",
     "output_type": "stream",
     "text": [
      "Division by Zero is Not Possible\n"
     ]
    }
   ],
   "source": [
    "try:\n",
    "    print(10/0)\n",
    "except ZeroDivisionError:\n",
    "    print('Division by Zero is Not Possible')"
   ]
  },
  {
   "cell_type": "code",
   "execution_count": null,
   "id": "1313f23d",
   "metadata": {},
   "outputs": [],
   "source": [
    "Ans 2.\n",
    "The Popular try statement variations are:\n",
    "\n",
    "1.try,except\n",
    "2.try,except,finally\n",
    "3.try,except,finally,else\n",
    "The try block is used to check code for exceptions during runtime. ie code inside try block will execute completely \n",
    "when there is no error in the program. Whereas the code inside except block will execute whenever the program \n",
    "encounters some error in the preceeding try block.\n",
    "\n",
    "Whereas the code enters the else block if and only if the try clause does not raise and exception. The code in the \n",
    "finally block will execute irrespective of exception."
   ]
  },
  {
   "cell_type": "code",
   "execution_count": null,
   "id": "94b84e3c",
   "metadata": {},
   "outputs": [],
   "source": [
    "Ans 3.\n",
    "raise statement is used to trigger an exception explicitly, if a certain condition is not as per requirement of \n",
    "programmer. raise statement helps in triggering exception as per programming logic."
   ]
  },
  {
   "cell_type": "code",
   "execution_count": null,
   "id": "8cc84593",
   "metadata": {},
   "outputs": [],
   "source": [
    "Ans 4.\n",
    "There are few assertions that programmer always want to be true to avoid code failure. This type of requirement is \n",
    "fulfilled by assert statement. This statement takes a boolean condition output of which is True, Further Program \n",
    "Executes. if output of assert statement is False, it raises an Assertion Error."
   ]
  },
  {
   "cell_type": "code",
   "execution_count": 2,
   "id": "cdc30827",
   "metadata": {},
   "outputs": [
    {
     "ename": "AssertionError",
     "evalue": "this is not a valid statement",
     "output_type": "error",
     "traceback": [
      "\u001b[0;31m---------------------------------------------------------------------------\u001b[0m",
      "\u001b[0;31mAssertionError\u001b[0m                            Traceback (most recent call last)",
      "\u001b[0;32m/var/folders/xs/k8gm34y91x1bvhzcjxxdfk3c0000gn/T/ipykernel_3671/3633858684.py\u001b[0m in \u001b[0;36m<module>\u001b[0;34m\u001b[0m\n\u001b[0;32m----> 1\u001b[0;31m \u001b[0;32massert\u001b[0m\u001b[0;34m(\u001b[0m\u001b[0;36m2\u001b[0m \u001b[0;34m==\u001b[0m \u001b[0;36m4\u001b[0m\u001b[0;34m)\u001b[0m\u001b[0;34m,\u001b[0m \u001b[0;34mf'this is not a valid statement'\u001b[0m\u001b[0;34m\u001b[0m\u001b[0;34m\u001b[0m\u001b[0m\n\u001b[0m",
      "\u001b[0;31mAssertionError\u001b[0m: this is not a valid statement"
     ]
    }
   ],
   "source": [
    "assert(2 == 4), f'this is not a valid statement'"
   ]
  },
  {
   "cell_type": "code",
   "execution_count": null,
   "id": "edeb1841",
   "metadata": {},
   "outputs": [],
   "source": [
    "Ans 5.\n",
    "with/as statement simplifies use of file handling in python. When we use a with statement for file reading, there \n",
    "is no need for programmer to explicitly takecare of activities like resource deallocation and file closing by using \n",
    "file.close() method. with statement itself ensures proper acquisition and release of resources. this avoids \n",
    "triggering of exceptions if file closing is unknowingly forgotten in the code execution.\n",
    "\n",
    "with open('sample_file.txt','w') as file: file.write('Hello World')"
   ]
  }
 ],
 "metadata": {
  "kernelspec": {
   "display_name": "Python 3 (ipykernel)",
   "language": "python",
   "name": "python3"
  },
  "language_info": {
   "codemirror_mode": {
    "name": "ipython",
    "version": 3
   },
   "file_extension": ".py",
   "mimetype": "text/x-python",
   "name": "python",
   "nbconvert_exporter": "python",
   "pygments_lexer": "ipython3",
   "version": "3.9.13"
  }
 },
 "nbformat": 4,
 "nbformat_minor": 5
}
